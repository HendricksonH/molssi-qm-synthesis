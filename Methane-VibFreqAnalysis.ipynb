{
 "cells": [
  {
   "cell_type": "code",
   "execution_count": 1,
   "id": "5ad85380",
   "metadata": {},
   "outputs": [],
   "source": [
    "import psi4\n",
    "import numpy as np"
   ]
  },
  {
   "cell_type": "code",
   "execution_count": 2,
   "id": "30003ec8",
   "metadata": {},
   "outputs": [
    {
     "name": "stdout",
     "output_type": "stream",
     "text": [
      "\n",
      "  Memory set to   1.863 GiB by Python driver.\n",
      "  Threads set to 2 by Python driver.\n"
     ]
    }
   ],
   "source": [
    "# Initial setup\n",
    "psi4.set_memory('2 GB')\n",
    "psi4.set_num_threads(2)\n",
    "\n",
    "file_prefix = 'methane_HF-DZ'\n",
    "\n",
    "ch4 = psi4.geometry(\"\"\"\n",
    "symmetry c1\n",
    "0 1\n",
    "   C       -0.85972        2.41258        0.00000\n",
    "   H        0.21028        2.41258        0.00000\n",
    "   H       -1.21638        2.69390       -0.96879\n",
    "   H       -1.21639        3.11091        0.72802\n",
    "   H       -1.21639        1.43293        0.24076\n",
    "\"\"\")"
   ]
  },
  {
   "cell_type": "code",
   "execution_count": 3,
   "id": "ef11ccbf",
   "metadata": {},
   "outputs": [
    {
     "name": "stdout",
     "output_type": "stream",
     "text": [
      "Optimizer: Optimization complete!\n"
     ]
    },
    {
     "data": {
      "text/plain": [
       "-40.19871710397636"
      ]
     },
     "execution_count": 3,
     "metadata": {},
     "output_type": "execute_result"
    }
   ],
   "source": [
    "# Geometry optimization\n",
    "psi4.set_output_file(file_prefix + '_geomopt.dat', False)\n",
    "psi4.set_options({'g_convergence': 'gau_tight'})\n",
    "psi4.optimize('scf/cc-pVDZ', molecule=ch4)\n"
   ]
  },
  {
   "cell_type": "code",
   "execution_count": 4,
   "id": "4f41df07",
   "metadata": {},
   "outputs": [],
   "source": [
    "# Run vibrational frequency analysis\n",
    "psi4.set_output_file(file_prefix + '_vibfreq.dat', False)\n",
    "scf_energy, scf_wfn = psi4.frequency('scf/cc-pVDZ', molecule=ch4, return_wfn=True, dertype='gradient')\n"
   ]
  },
  {
   "cell_type": "code",
   "execution_count": 5,
   "id": "f5f64dc7",
   "metadata": {},
   "outputs": [
    {
     "name": "stdout",
     "output_type": "stream",
     "text": [
      "[0.0000000000000000e+00+4.4496900556197481e-05j\n",
      " 0.0000000000000000e+00+2.3898312957372732e-05j\n",
      " 0.0000000000000000e+00+1.9617838454530844e-05j\n",
      " 0.0000000000000000e+00+1.4554980934890227e-05j\n",
      " 2.7949078664533339e-05+0.0000000000000000e+00j\n",
      " 4.4463466947634128e-05+0.0000000000000000e+00j\n",
      " 1.4338143040080315e+03+0.0000000000000000e+00j\n",
      " 1.4338157523676305e+03+0.0000000000000000e+00j\n",
      " 1.4338207812400967e+03+0.0000000000000000e+00j\n",
      " 1.6483535582547759e+03+0.0000000000000000e+00j\n",
      " 1.6483579157481995e+03+0.0000000000000000e+00j\n",
      " 3.1648352105897657e+03+0.0000000000000000e+00j\n",
      " 3.2856434619763450e+03+0.0000000000000000e+00j\n",
      " 3.2856541563881096e+03+0.0000000000000000e+00j\n",
      " 3.2856691963475087e+03+0.0000000000000000e+00j]\n"
     ]
    }
   ],
   "source": [
    "# Save \"raw\" frequencies into a variable\n",
    "#print(scf_wfn.frequency_analysis) # this command is just to get you started!\n",
    "#print(scf_wfn.frequency_analysis['omega'])\n",
    "#print(scf_wfn.frequency_analysis['omega'].data)\n",
    "freq = scf_wfn.frequency_analysis['omega'].data\n",
    "print(freq)"
   ]
  },
  {
   "cell_type": "code",
   "execution_count": 17,
   "id": "aafdc922",
   "metadata": {},
   "outputs": [
    {
     "name": "stdout",
     "output_type": "stream",
     "text": [
      "1434.0\n",
      "1434.0\n",
      "1434.0\n",
      "1648.0\n",
      "1648.0\n",
      "3165.0\n",
      "3286.0\n",
      "3286.0\n",
      "3286.0\n"
     ]
    }
   ],
   "source": [
    "# Eliminate imaginary parts of frequencies,\n",
    "# round the frequencies (to the nearest whole number),\n",
    "# and extract only the *non-zero* frequencies\n",
    "#print(freq.real)\n",
    "#print(freq.imag)\n",
    "#print(np.rint(freq.real))\n",
    "int_freq = np.rint(freq.real)\n",
    "#print(int_freq)\n",
    "#print(len(int_freq))\n",
    "for i in range(len(int_freq)):\n",
    "    #print(int_freq[i])\n",
    "    if int_freq[i]!=0.0:\n",
    "        print(int_freq[i])\n",
    "        "
   ]
  },
  {
   "cell_type": "code",
   "execution_count": null,
   "id": "74a85de9",
   "metadata": {},
   "outputs": [],
   "source": [
    "# Determine the unique non-zero frequencies and \n",
    "# the number of times each such frequency occurs;\n",
    "# store these in a NumPy array in the format: \n",
    "# {frequency, count} (i.e, one line per freq.)"
   ]
  },
  {
   "cell_type": "code",
   "execution_count": null,
   "id": "f5fc802e",
   "metadata": {},
   "outputs": [],
   "source": [
    "# Save the NumPy array with frequency and count data\n",
    "# to a text file with the header line: 'freq degen'\n"
   ]
  }
 ],
 "metadata": {
  "kernelspec": {
   "display_name": "Python 3 (ipykernel)",
   "language": "python",
   "name": "python3"
  },
  "language_info": {
   "codemirror_mode": {
    "name": "ipython",
    "version": 3
   },
   "file_extension": ".py",
   "mimetype": "text/x-python",
   "name": "python",
   "nbconvert_exporter": "python",
   "pygments_lexer": "ipython3",
   "version": "3.8.8"
  }
 },
 "nbformat": 4,
 "nbformat_minor": 5
}
