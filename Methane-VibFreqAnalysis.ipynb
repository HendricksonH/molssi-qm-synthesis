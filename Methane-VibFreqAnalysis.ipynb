{
 "cells": [
  {
   "cell_type": "code",
   "execution_count": 1,
   "id": "f6733489",
   "metadata": {},
   "outputs": [],
   "source": [
    "import psi4\n",
    "import numpy as np"
   ]
  },
  {
   "cell_type": "code",
   "execution_count": 2,
   "id": "655d1022",
   "metadata": {},
   "outputs": [
    {
     "name": "stdout",
     "output_type": "stream",
     "text": [
      "\n",
      "  Memory set to   1.863 GiB by Python driver.\n",
      "  Threads set to 2 by Python driver.\n"
     ]
    }
   ],
   "source": [
    "# Initial setup\n",
    "psi4.set_memory('2 GB')\n",
    "psi4.set_num_threads(2)\n",
    "\n",
    "file_prefix = 'methane_HF-DZ'\n",
    "\n",
    "ch4 = psi4.geometry(\"\"\"\n",
    "symmetry c1\n",
    "0 1\n",
    "   C       -0.85972        2.41258        0.00000\n",
    "   H        0.21028        2.41258        0.00000\n",
    "   H       -1.21638        2.69390       -0.96879\n",
    "   H       -1.21639        3.11091        0.72802\n",
    "   H       -1.21639        1.43293        0.24076\n",
    "\"\"\")"
   ]
  },
  {
   "cell_type": "code",
   "execution_count": 3,
   "id": "02698a07",
   "metadata": {},
   "outputs": [
    {
     "name": "stdout",
     "output_type": "stream",
     "text": [
      "Optimizer: Optimization complete!\n"
     ]
    },
    {
     "data": {
      "text/plain": [
       "-40.19871710397764"
      ]
     },
     "execution_count": 3,
     "metadata": {},
     "output_type": "execute_result"
    }
   ],
   "source": [
    "# Geometry optimization\n",
    "psi4.set_output_file(file_prefix + '_geomopt.dat', False)\n",
    "psi4.set_options({'g_convergence': 'gau_tight'})\n",
    "psi4.optimize('scf/cc-pVDZ', molecule=ch4)\n"
   ]
  },
  {
   "cell_type": "code",
   "execution_count": 4,
   "id": "96fa4bd6",
   "metadata": {},
   "outputs": [],
   "source": [
    "# Run vibrational frequency analysis\n",
    "psi4.set_output_file(file_prefix + '_vibfreq.dat', False)\n",
    "scf_energy, scf_wfn = psi4.frequency('scf/cc-pVDZ', molecule=ch4, return_wfn=True, dertype='gradient')\n"
   ]
  },
  {
   "cell_type": "code",
   "execution_count": null,
   "id": "4af9a977",
   "metadata": {},
   "outputs": [],
   "source": [
    "# Save \"raw\" frequencies into a variable\n",
    "print(scf_wfn.frequency_analysis) # this command is just to get you started!"
   ]
  },
  {
   "cell_type": "code",
   "execution_count": null,
   "id": "30d50220",
   "metadata": {},
   "outputs": [],
   "source": [
    "# Eliminate imaginary parts of frequencies,\n",
    "# round the frequencies (to the nearest whole number),\n",
    "# and extract only the *non-zero* frequencies\n"
   ]
  },
  {
   "cell_type": "code",
   "execution_count": null,
   "id": "ac6f3686",
   "metadata": {},
   "outputs": [],
   "source": [
    "# Determine the unique non-zero frequencies and \n",
    "# the number of times each such frequency occurs;\n",
    "# store these in a NumPy array in the format: \n",
    "# {frequency, count} (i.e, one line per freq.)"
   ]
  },
  {
   "cell_type": "code",
   "execution_count": null,
   "id": "c2ac9fc5",
   "metadata": {},
   "outputs": [],
   "source": [
    "# Save the NumPy array with frequency and count data\n",
    "# to a text file with the header line: 'freq degen'\n"
   ]
  }
 ],
 "metadata": {
  "kernelspec": {
   "display_name": "Python 3 (ipykernel)",
   "language": "python",
   "name": "python3"
  },
  "language_info": {
   "codemirror_mode": {
    "name": "ipython",
    "version": 3
   },
   "file_extension": ".py",
   "mimetype": "text/x-python",
   "name": "python",
   "nbconvert_exporter": "python",
   "pygments_lexer": "ipython3",
   "version": "3.8.8"
  }
 },
 "nbformat": 4,
 "nbformat_minor": 5
}
